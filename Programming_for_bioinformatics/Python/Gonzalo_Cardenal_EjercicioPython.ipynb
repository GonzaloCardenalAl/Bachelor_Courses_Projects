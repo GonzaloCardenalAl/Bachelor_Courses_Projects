{
 "cells": [
  {
   "cell_type": "markdown",
   "metadata": {},
   "source": [
    "Predicción del número de fragmentos de DNA y su longitud al digerir con las siguientes enzimas de restricción:\n",
    "\n",
    "- AbcI: ANT*AAT\n",
    "- AbcII: GCRW*TG\n",
    "\n",
    "Donde N representa cualquier base, R representa A o G y W representa A o T."
   ]
  },
  {
   "cell_type": "code",
   "execution_count": 2,
   "metadata": {},
   "outputs": [],
   "source": [
    "import re"
   ]
  },
  {
   "cell_type": "code",
   "execution_count": 5,
   "metadata": {},
   "outputs": [
    {
     "name": "stdout",
     "output_type": "stream",
     "text": [
      "71\n",
      "Tras la digestión se han generado 4 fragmentos\n",
      "El fragmento TGTGGACTTGACCTAAGT mide 18 bases\n",
      "El fragmento AATGCATTTATATTGGGCGCAT mide 22 bases\n",
      "El fragmento TGAAAGGCGA mide 10 bases\n",
      "El fragmento TGGGGAAGACTAATGATGGTA mide 21 bases\n"
     ]
    }
   ],
   "source": [
    "DNA = \"TGTGGACTTGACCTAAGTAATGCATTTATATTGGGCGCATTGAAAGGCGATGGGGAAGACTAATGATGGTA\"\n",
    "posicionDNA=0\n",
    "fragmentosdig=[] #lista\n",
    "\n",
    "#Con re.finditer buscamos las dianas de restricción de nuestras enzimas\n",
    "#que se presentan en nuestra cadena de DNA\n",
    "dianas_de_restriccion = re.finditer(r\"(A[ATGC]TAAT)|(GC(A|G)(A|T)TG)\", DNA) \n",
    "\n",
    "#Vamos a recorrer los match encontrados y a generar una lista con los \n",
    "#fragmentos generados de la digestión\n",
    "for matches in dianas_de_restriccion:\n",
    "    match = matches.group() #patrón encontrado\n",
    "    posicion = matches.start() #guardamos la posición de la diana\n",
    "    #AbcI\n",
    "    if re.search(r\"A[ATGC]TAAT\", match): \n",
    "        posicioncorte=posicion + 3 #situamos posición del corte\n",
    "        fragmento = DNA[posicionDNA:posicioncorte] \n",
    "        fragmentosdig.append(fragmento) #añadimos fragmento a la lista\n",
    "        posicionDNA=posicioncorte\n",
    "    #AbcII\n",
    "    elif re.search(r\"GC(A|G)(A|T)TG\", match): \n",
    "        posicioncorte=posicion+4  #situamos posición del corte\n",
    "        fragmento = DNA[posicionDNA:posicioncorte]\n",
    "        fragmentosdig.append(fragmento) #añadimos fragmento a la lista\n",
    "        posicionDNA=posicioncorte\n",
    "\n",
    "#Introducimos el fragmento final sumando el final de DNA a la última posición\n",
    "#de la lista de fragmentos\n",
    "fragmentosdig[-1]=fragmentosdig[-1]+DNA[posicioncorte:] \n",
    "\n",
    "#Printeamos los resultados\n",
    "print (\"Tras la digestión se han generado\" ,len(fragmentosdig), \"fragmentos\") \n",
    "\n",
    "#Hacemos un bucle for para printear la secuencia y longitud de los fragmentos\n",
    "#Almacenados en la lista\n",
    "for fragmen in fragmentosdig:\n",
    "    print (\"El fragmento\", fragmen, \"mide\", len(fragmen), \"bases\")  "
   ]
  },
  {
   "cell_type": "code",
   "execution_count": null,
   "metadata": {},
   "outputs": [],
   "source": []
  }
 ],
 "metadata": {
  "kernelspec": {
   "display_name": "Python 3",
   "language": "python",
   "name": "python3"
  },
  "language_info": {
   "codemirror_mode": {
    "name": "ipython",
    "version": 3
   },
   "file_extension": ".py",
   "mimetype": "text/x-python",
   "name": "python",
   "nbconvert_exporter": "python",
   "pygments_lexer": "ipython3",
   "version": "3.8.5"
  }
 },
 "nbformat": 4,
 "nbformat_minor": 4
}
