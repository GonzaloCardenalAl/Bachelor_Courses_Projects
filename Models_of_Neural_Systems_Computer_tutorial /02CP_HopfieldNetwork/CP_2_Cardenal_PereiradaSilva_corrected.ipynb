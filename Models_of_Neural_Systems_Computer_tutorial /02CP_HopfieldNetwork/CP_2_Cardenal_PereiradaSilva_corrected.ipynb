{
 "cells": [
  {
   "cell_type": "code",
   "execution_count": null,
   "metadata": {
    "id": "Zj08kUoHkmmS"
   },
   "outputs": [],
   "source": [
    "'''\n",
    "############################################################################\n",
    "AT: very nice!\n",
    "\n",
    "100% / 95% / 100% + Bonus\n",
    "\n",
    "############################################################################\n",
    "'''"
   ]
  },
  {
   "cell_type": "markdown",
   "metadata": {
    "id": "aDLoPa-LkjJT"
   },
   "source": [
    "## Hopfield Network\n",
    "Models of Neural Systems, WS 2021/22; Computer Practical 2\n",
    "\n",
    "*Gonzalo Cardenal, Sofia Pereira da Silva* "
   ]
  },
  {
   "cell_type": "code",
   "execution_count": null,
   "metadata": {
    "id": "z9b5jW5ykjJa"
   },
   "outputs": [],
   "source": [
    "import numpy as np\n",
    "import matplotlib.pyplot as plt"
   ]
  },
  {
   "cell_type": "markdown",
   "metadata": {
    "id": "nWAVxupukjJb"
   },
   "source": [
    "## 1.\n",
    "#### Weights Initialization\n",
    "Firstly, we compute our array with the 3 initial patterns and we initialize the weights by making a matrix multiplication of the pattern array with its transposed (this will be equal to taking the dot product of the states of the respective patterns). So, generally:\n",
    "$$\n",
    "w_{ij}= \\sum_{K=1}^{3}  s_i^K s_j^K\n",
    "$$"
   ]
  },
  {
   "cell_type": "code",
   "execution_count": null,
   "metadata": {
    "id": "nbS93Jg-kjJc",
    "outputId": "3fbb2fde-6ce0-4853-9565-b50315da79df"
   },
   "outputs": [
    {
     "name": "stdout",
     "output_type": "stream",
     "text": [
      "[[ 1 -1  1 -1]\n",
      " [-1  1  1  1]\n",
      " [-1 -1 -1  1]]\n"
     ]
    }
   ],
   "source": [
    "patterns = np.array([[1, -1, 1, -1], [-1, 1, 1, 1,], [-1, -1, -1, 1]])\n",
    "print(patterns)"
   ]
  },
  {
   "cell_type": "code",
   "execution_count": null,
   "metadata": {
    "id": "CMfajucIkjJe"
   },
   "outputs": [],
   "source": [
    "def sign(z):  #as np.sign function gives 0 at 0, we define sign instead of using np.sign\n",
    "    if z[i] >= 0:\n",
    "        return 1\n",
    "    if z[i] < 0:\n",
    "        return -1"
   ]
  },
  {
   "cell_type": "markdown",
   "metadata": {
    "id": "QHToZ5XfkjJe"
   },
   "source": [
    "As no unit has a connection with itself ( $w_{ii}$ = 0, $\\forall i $), we substract the main diagonal with $np.eye$ (which gives us an array with ones in the main diagonal) multiplied by the number of patterns (= $ \\sum_{K=1}^{3} s_i^K s_i^K $ ):"
   ]
  },
  {
   "cell_type": "code",
   "execution_count": null,
   "metadata": {
    "id": "YqPcR79TkjJf",
    "outputId": "3422a6cc-5d4d-4465-9a6f-c9054bcb53aa"
   },
   "outputs": [
    {
     "name": "stdout",
     "output_type": "stream",
     "text": [
      "These are the weights that store patterns A/B/C:\n",
      "[[ 0. -1.  1. -3.]\n",
      " [-1.  0.  1.  1.]\n",
      " [ 1.  1.  0. -1.]\n",
      " [-3.  1. -1.  0.]]\n"
     ]
    }
   ],
   "source": [
    "weights = (patterns.T @ patterns) \n",
    "weights = weights -np.eye(4)*3\n",
    "print(\"These are the weights that store patterns A/B/C:\") \n",
    "print(weights)"
   ]
  },
  {
   "cell_type": "markdown",
   "metadata": {
    "id": "r9H8VnO5kjJf"
   },
   "source": [
    "#### State Update and Stability condition\n",
    "A pattern is stable if it fullfills the condition:\n",
    "$$\n",
    "sign(\\sum_{j}w_{ij}p_j) = p_i \\text {, }\\forall i \n",
    "$$\n",
    " that is, if a state update produces no state.\n",
    "\n",
    "Therefore, we defined a function for the state update (somewhat similar to our McCulloch-Pitts neuron in the last exercise sheet) and applied it (simmultaneously) for each pattern as the initial state:"
   ]
  },
  {
   "cell_type": "code",
   "execution_count": null,
   "metadata": {
    "id": "eVDdMZwXkjJg"
   },
   "outputs": [],
   "source": [
    "def state_update(networkstate, weights):\n",
    "    i = np.random.randint(0,3)\n",
    "    unitupdate = np.sign(np.dot(weights[:,i],networkstate))\n",
    "    networkstate[i] = unitupdate\n",
    "    return networkstate"
   ]
  },
  {
   "cell_type": "code",
   "execution_count": null,
   "metadata": {
    "id": "KspS4d2ikjJg",
    "outputId": "af712c33-dac5-42d6-e1ad-ec24df949a32"
   },
   "outputs": [
    {
     "data": {
      "text/plain": [
       "array([[ 1, -1,  1, -1],\n",
       "       [-1,  1, -1,  1],\n",
       "       [-1,  1, -1,  1]])"
      ]
     },
     "execution_count": 42,
     "metadata": {},
     "output_type": "execute_result"
    }
   ],
   "source": [
    "p_minus1 = patterns\n",
    "for t in range(0,1000):\n",
    "    p = np.array([state_update(p_minus1[i,:], weights) for i in  np.arange(p_minus1.shape[0])])\n",
    "    p_minus1 = p\n",
    "p"
   ]
  },
  {
   "cell_type": "markdown",
   "metadata": {
    "id": "DsZ65OYxkjJh"
   },
   "source": [
    "As we can observe, only the first pattern stayed the same after computing various state updates at random units. That means that, for pattern A, the stability criterium is met, thus A is a stable state/ attractor that the network converges to. In patterns B and C, however, this does not happen. Therefore, patterns B and C are not stable states. This has to do with the fact that no units have self-connections, which affects the stability. In other words, removing the self-connections adds errors to the system.\n",
    "\n",
    "If we were to run the same function without having 0s on the diagonal of the weight matrix, we would have 3 attractors instead of just one:"
   ]
  },
  {
   "cell_type": "code",
   "execution_count": null,
   "metadata": {
    "id": "C0U3F1iJkjJi",
    "outputId": "2501e582-8f8f-4b45-9b6d-20b54c3b93ef"
   },
   "outputs": [
    {
     "name": "stdout",
     "output_type": "stream",
     "text": [
      "[[ 1 -1  1 -1]\n",
      " [-1  1  1  1]\n",
      " [-1 -1 -1  1]]\n"
     ]
    }
   ],
   "source": [
    "weights_withselfconnections = (patterns.T @ patterns)\n",
    "\n",
    "for t in range(0,1000):\n",
    "    p2 = np.array([state_update(patterns[i,:], weights_withselfconnections) for i in  np.arange(patterns.shape[0])])\n",
    "print(p2)"
   ]
  },
  {
   "cell_type": "markdown",
   "metadata": {
    "id": "geIE4Z59kjJj"
   },
   "source": [
    "## 2. \n",
    "Given pattern A/B/C as an initial state, what pattern does the network converge to? (Hint: Apply the asynchronous state update described above. Think about a convergence criterion.) Consider the following energy function for the network:\n",
    "$$\n",
    "E = - \\sum_i \\sum_j w_{ij}s_is_j\n",
    "$$\n",
    "Calculate the energy after each update step and plot it as a function of time."
   ]
  },
  {
   "cell_type": "markdown",
   "metadata": {
    "id": "hfwzXYRikjJk"
   },
   "source": [
    "-> First of all, in order to show the patterns the network converges to, we decided to introduce each pattern separately as the initial state and keep updating a random state at a time 1000 times:"
   ]
  },
  {
   "cell_type": "code",
   "execution_count": null,
   "metadata": {
    "id": "O0BjPt85kjJk"
   },
   "outputs": [],
   "source": [
    "A = patterns[0,:]\n",
    "B = patterns[1,:]\n",
    "C = patterns[2,:]"
   ]
  },
  {
   "cell_type": "code",
   "execution_count": null,
   "metadata": {
    "id": "SJedjH-qkjJl",
    "outputId": "83e0f15e-b9a6-43a2-f49d-fae85b177046"
   },
   "outputs": [
    {
     "data": {
      "text/plain": [
       "array([ 1, -1,  1, -1])"
      ]
     },
     "execution_count": 45,
     "metadata": {},
     "output_type": "execute_result"
    }
   ],
   "source": [
    "for t in range(0,1000):\n",
    "    Aconvergence = np.array(state_update(A, weights))\n",
    "Aconvergence"
   ]
  },
  {
   "cell_type": "code",
   "execution_count": null,
   "metadata": {
    "id": "azETGa8ukjJl",
    "outputId": "4b9e7df1-2418-4dea-fea2-e27b50e187c7"
   },
   "outputs": [
    {
     "data": {
      "text/plain": [
       "array([-1,  1, -1,  1])"
      ]
     },
     "execution_count": 46,
     "metadata": {},
     "output_type": "execute_result"
    }
   ],
   "source": [
    "for t in range(0,1000):\n",
    "    Bconvergence = np.array(state_update(B, weights))\n",
    "Bconvergence"
   ]
  },
  {
   "cell_type": "code",
   "execution_count": null,
   "metadata": {
    "id": "WWDkzQiWkjJl",
    "outputId": "4f106a84-8382-44be-87a2-87ae35ae8250"
   },
   "outputs": [
    {
     "data": {
      "text/plain": [
       "array([-1,  1, -1,  1])"
      ]
     },
     "execution_count": 47,
     "metadata": {},
     "output_type": "execute_result"
    }
   ],
   "source": [
    "for t in range(0,1000):\n",
    "    Cconvergence = np.array(state_update(C, weights))\n",
    "Cconvergence"
   ]
  },
  {
   "cell_type": "markdown",
   "metadata": {
    "id": "FmDD4BlykjJm"
   },
   "source": [
    "As stated previously, A is a stable state and therefore A as an initial state converges to A (doesn't change). \n",
    "One can tell that starting with both B and C converges to -A, which can be called a \"reversed state\" and is also an attractor of the network. This happens because, in both B and C, the majority of the state components are opposite to the ones of A."
   ]
  },
  {
   "cell_type": "markdown",
   "metadata": {
    "id": "Zy12nCQ8kjJm"
   },
   "source": [
    "Finally, we define a function for energy and one that stores the energy values for each time step, after each update step. This way, we are able to plot the energy function for the network vs. time.\n",
    "(Note that we start by redefining the patterns because of the way Python is made to operate (it also updates the patterns))."
   ]
  },
  {
   "cell_type": "code",
   "execution_count": null,
   "metadata": {
    "id": "RgaXF_GEkjJm"
   },
   "outputs": [],
   "source": [
    "patterns = np.array([[1, -1, 1, -1], [-1, 1, 1, 1,], [-1, -1, -1, 1]])\n",
    "A = patterns[0,:]\n",
    "B = patterns[1,:]\n",
    "C = patterns[2,:]"
   ]
  },
  {
   "cell_type": "code",
   "execution_count": null,
   "metadata": {
    "id": "McJKpIaXkjJn"
   },
   "outputs": [],
   "source": [
    "def energy(networkstate, weights):\n",
    "    wtimesnetworkstate= weights @ networkstate\n",
    "    netdiagonal= np.diag(networkstate)\n",
    "    vectorofthefirstsum= wtimesnetworkstate @ netdiagonal\n",
    "    e = - np.sum(vectorofthefirstsum)\n",
    "    return e"
   ]
  },
  {
   "cell_type": "code",
   "execution_count": null,
   "metadata": {
    "id": "MfPUd8iVkjJn"
   },
   "outputs": [],
   "source": [
    "def energy_oft(t, networkstate, weights):\n",
    "    \n",
    "    e = []\n",
    "    p_minus1 = networkstate\n",
    "    e.append(energy(p_minus1, weights))\n",
    "    for time in range(0,t):\n",
    "        p = np.array(state_update(p_minus1, weights))\n",
    "        e.append(energy(p, weights))\n",
    "        p_minus1 = p\n",
    "    return np.array(e)"
   ]
  },
  {
   "cell_type": "code",
   "execution_count": null,
   "metadata": {
    "id": "f4XkvIG8kjJn",
    "outputId": "8aef1d33-f3d9-4f96-dc0f-e6b79ec31199"
   },
   "outputs": [
    {
     "data": {
      "image/png": "[encoded data removed]",
      "text/plain": [
       "<Figure size 864x504 with 1 Axes>"
      ]
     },
     "execution_count": 51,
     "metadata": {
      "needs_background": "light"
     },
     "output_type": "execute_result"
    }
   ],
   "source": [
    "patterns = np.array([[1, -1, 1, -1], [-1, 1, 1, 1,], [-1, -1, -1, 1]])\n",
    "A = patterns[0,:]\n",
    "B = patterns[1,:]\n",
    "C = patterns[2,:]\n",
    "plt.rcParams[\"figure.figsize\"] = (12,7)\n",
    "plt.yticks(np.arange(-14, 8+1, 2.0))\n",
    "plt.plot(energy_oft(10, A, weights), label = \"A pattern\", c ='red')\n",
    "plt.plot(energy_oft(10, B, weights), label = \"B pattern\", c ='blue')\n",
    "plt.plot(energy_oft(10, C, weights), label = \"C pattern\", c ='green')\n",
    "plt.plot(energy_oft(10,[1,-1,-1,1], weights), label = \"random pattern[-1, 1, 1, 1]\", c ='yellow')\n",
    "plt.plot(energy_oft(10,[1,1,-1,1], weights), label = \"random pattern[1, 1,-1, 1]\", c ='orange')\n",
    "plt.xlabel(\"time\")\n",
    "plt.ylabel(\"Energy\")\n",
    "plt.title(\"Energy evolution over time\")\n",
    "plt.legend()\n",
    "plt.show()"
   ]
  },
  {
   "cell_type": "markdown",
   "metadata": {
    "id": "lRyQWaiIkjJo"
   },
   "source": [
    "As expected, we can see that the energies of the states either remain the same or decrease. Eventually, all of the patterns converge to a state with the minimum energy (= -12 energy units), which corresponds to either A or -A. Therefore, starting with state A translates to a line with slope 0. B and C converge more quickly to the minimal energy than other patterns we tried (that were further apart from A/-A)."
   ]
  },
  {
   "cell_type": "code",
   "execution_count": null,
   "metadata": {
    "id": "UxlvHOZInA6g"
   },
   "outputs": [],
   "source": [
    "'''\n",
    "############################################################################\n",
    "\n",
    "You could use also plt.subplots. This method may avoid that some plot lines overlap and superimpose others.  \n",
    "You can also add the units of time, for example iterations, or epochs.\n",
    "\n",
    "############################################################################\n",
    "'''"
   ]
  },
  {
   "cell_type": "markdown",
   "metadata": {
    "id": "87e0MKOwkjJo"
   },
   "source": [
    "## 3. \n",
    "\n",
    "Reuse the code developed for the toy example above to store and recall image patterns in a larger Hopfield network.\n",
    "\n",
    "#### a. \n",
    "Load the numpy file ’images.npz’ in ipython. (Hint: np.load(’images.npz’)[’arr_0’] will return a 3D array with dimensions (k,v,h), where k is the number of patterns, v and h are the vertical and horizontal dimensions of the image.)"
   ]
  },
  {
   "cell_type": "code",
   "execution_count": null,
   "metadata": {
    "id": "g4V88w10kjJp",
    "outputId": "9a08c0f4-5286-4014-a555-f08e73f1a96f",
    "scrolled": true
   },
   "outputs": [
    {
     "name": "stdout",
     "output_type": "stream",
     "text": [
      "(8, 30, 40)\n"
     ]
    }
   ],
   "source": [
    "image = np.load(\"images.npz\")[\"arr_0\"]\n",
    "print(image.shape)"
   ]
  },
  {
   "cell_type": "markdown",
   "metadata": {
    "id": "jV2DjNOekjJp"
   },
   "source": [
    "#### b.\n",
    "\n",
    "Apply equation 2 to store the patterns into a weight matrix $W = {wij}$. (Hint(s): You will have to flatten the images from 2 dimensions into vectors. Applying matrix multiplication is always preferable to iteration over elements.)"
   ]
  },
  {
   "cell_type": "code",
   "execution_count": null,
   "metadata": {
    "id": "AZ8VNO1BkjJp",
    "outputId": "3b2fca74-111a-403c-e671-2c8b1dd13285"
   },
   "outputs": [
    {
     "data": {
      "text/plain": [
       "(30, 40)"
      ]
     },
     "execution_count": 53,
     "metadata": {},
     "output_type": "execute_result"
    }
   ],
   "source": [
    "image[6,:,:].shape\n",
    "#pd.DataFrame(image[0,:,:])"
   ]
  },
  {
   "cell_type": "code",
   "execution_count": null,
   "metadata": {
    "id": "tDTUS4ilkjJp",
    "outputId": "5f409f14-f14d-4437-f42b-6d3d31f84588"
   },
   "outputs": [
    {
     "data": {
      "text/plain": [
       "(8, 1200)"
      ]
     },
     "execution_count": 54,
     "metadata": {},
     "output_type": "execute_result"
    }
   ],
   "source": [
    "imagepat=image.reshape(8, 1200)\n",
    "imagepat.shape"
   ]
  },
  {
   "cell_type": "code",
   "execution_count": null,
   "metadata": {
    "id": "xQ7_02JvkjJq",
    "outputId": "6e92232d-df45-4182-8c7d-f4faf18864ea"
   },
   "outputs": [
    {
     "name": "stdout",
     "output_type": "stream",
     "text": [
      "These are the weights that store the 8 given patterns:\n",
      "[[0. 6. 6. ... 6. 8. 8.]\n",
      " [6. 0. 8. ... 4. 6. 6.]\n",
      " [6. 8. 0. ... 4. 6. 6.]\n",
      " ...\n",
      " [6. 4. 4. ... 0. 6. 6.]\n",
      " [8. 6. 6. ... 6. 0. 8.]\n",
      " [8. 6. 6. ... 6. 8. 0.]]\n",
      "(1200, 1200)\n"
     ]
    }
   ],
   "source": [
    "imweights = imagepat.T @ imagepat\n",
    "imweightso = imweights - np.eye(imweights.shape[0])*imweights[0,0]\n",
    "print(\"These are the weights that store the 8 given patterns:\")\n",
    "print(imweightso)\n",
    "print(imweightso.shape)"
   ]
  },
  {
   "cell_type": "code",
   "execution_count": null,
   "metadata": {
    "id": "s45GK9FwkjJq"
   },
   "outputs": [],
   "source": [
    "def imstate_update(networkstate, weights):\n",
    "    i = np.random.randint(0,1200)\n",
    "    unitupdate = np.sign(np.dot(weights[:,i],networkstate))\n",
    "    networkstate[i] = unitupdate\n",
    "    return networkstate"
   ]
  },
  {
   "cell_type": "markdown",
   "metadata": {
    "id": "IXQ-I6qAkjJq"
   },
   "source": [
    "#### c. \n",
    "\n",
    "Which patterns are (un)stable?"
   ]
  },
  {
   "cell_type": "code",
   "execution_count": null,
   "metadata": {
    "id": "ZT7PGMFakjJr",
    "outputId": "f8bf093f-44b6-4e7b-c39d-3b4fa9e61538"
   },
   "outputs": [
    {
     "name": "stdout",
     "output_type": "stream",
     "text": [
      "[ True  True False  True  True  True  True  True]\n"
     ]
    }
   ],
   "source": [
    "p_minus1 = imagepat\n",
    "for t in range(0,100):\n",
    "    for i in range(0,8):\n",
    "        p = np.array(imstate_update(imagepat[i, :], imweightso))\n",
    "        p_minus1 = p\n",
    "\n",
    "print((imagepat == Iconvergence).all(axis=1))\n",
    "#plt.imshow(imagepat[2].reshape(30,40))"
   ]
  },
  {
   "cell_type": "markdown",
   "metadata": {
    "id": "Tla-OUTikjJr"
   },
   "source": [
    "It appears that all the initial patterns but 1 correspond to the respective convergence states (the comparison returns the value True for all but 1 pattern), that is, it appears that all but 1 patterns are stable states for this network. The third picture (the one that looks like a skull) is not an attractor because, after some state updates, the state converges to another image (the comparison returns value False). "
   ]
  },
  {
   "cell_type": "code",
   "execution_count": null,
   "metadata": {
    "id": "AaQef-mokjJr"
   },
   "outputs": [],
   "source": [
    "#for t in range(0,1000):\n",
    "#    I4convergence = np.array(state_update(imagepat[3, :], imweightso))\n",
    "#    I4conver\n",
    "#I4convergence\n",
    "#(imagepat[:4,:] == I4convergence).all(axis=1)"
   ]
  },
  {
   "cell_type": "code",
   "execution_count": null,
   "metadata": {
    "id": "EcqJTyVTkjJr"
   },
   "outputs": [],
   "source": [
    "#for t in range(0,1000):\n",
    "#    I1convergence = np.array(state_update(imagepat[0, :], imweightso))\n",
    "#I1convergence\n",
    "\n",
    "#if (imagepat[i, :] == I1convergence).all:\n",
    "#    print(True)\n",
    "    \n",
    "    \n",
    "#dif1 = np.sum(I1convergence - imagepat[0, :])\n",
    "#print(dif1)"
   ]
  },
  {
   "cell_type": "markdown",
   "metadata": {
    "id": "HCCQrwBikjJs"
   },
   "source": [
    "### d.Bonus\n",
    "\n",
    "Start with a pattern consisting of random values 1 and update according to the rule in Equation 3 until reaching a stable state. Plot the initial pattern, the final stable state of the network, and the energy function over iterations. Repeat this step several times with different\n",
    "random initial patterns. (Hint: Before plotting you should reshape the patterns from 1D arrays into 2D arrays using the method reshape((v,h)). For plotting, you can use pyplot.imshow(M), where M is a 2D array.) Interpret your results."
   ]
  },
  {
   "cell_type": "code",
   "execution_count": null,
   "metadata": {
    "id": "MxLmdedukjJs"
   },
   "outputs": [],
   "source": [
    "#plt.imshow(image[0,:,:])"
   ]
  },
  {
   "cell_type": "markdown",
   "metadata": {
    "id": "fDg14AcDkjJt"
   },
   "source": [
    "We start by creating the initial random patterns:"
   ]
  },
  {
   "cell_type": "code",
   "execution_count": null,
   "metadata": {
    "id": "nJFcQ6t-kjJt",
    "scrolled": true
   },
   "outputs": [],
   "source": [
    "conditions = [-1, 1]\n",
    "random_pattern1 = np.random.choice(conditions, size=(30,40))\n",
    "random_pattern2 = np.random.choice(conditions, size=(30,40))\n",
    "random_pattern3 = np.random.choice(conditions, size=(30,40))"
   ]
  },
  {
   "cell_type": "code",
   "execution_count": null,
   "metadata": {
    "id": "-X-rRVrNkjJt",
    "outputId": "243b48cf-1e85-40e8-b8e1-778438e2586d"
   },
   "outputs": [
    {
     "name": "stdout",
     "output_type": "stream",
     "text": [
      "Initial Patterns\n"
     ]
    },
    {
     "data": {
      "text/plain": [
       "<matplotlib.image.AxesImage at 0x7faed5815820>"
      ]
     },
     "execution_count": 103,
     "metadata": {},
     "output_type": "execute_result"
    },
    {
     "data": {
      "image/png": "[encoded data removed]",
      "text/plain": [
       "<Figure size 1440x1080 with 3 Axes>"
      ]
     },
     "execution_count": 103,
     "metadata": {
      "needs_background": "light"
     },
     "output_type": "execute_result"
    }
   ],
   "source": [
    "print(\"Initial Patterns\")\n",
    "\n",
    "fig = plt.figure(figsize=(20, 15))\n",
    "fig.add_subplot(1, 3, 1)\n",
    "plt.imshow(random_pattern1)\n",
    "fig.add_subplot(1, 3, 2)\n",
    "plt.imshow(random_pattern2)\n",
    "fig.add_subplot(1, 3, 3)\n",
    "plt.imshow(random_pattern3)"
   ]
  },
  {
   "cell_type": "markdown",
   "metadata": {
    "id": "RKGqvoZRkjJt"
   },
   "source": [
    "Then, we apply multiple state updates in order to reach the stable states:"
   ]
  },
  {
   "cell_type": "code",
   "execution_count": null,
   "metadata": {
    "id": "VGPue6ukkjJu",
    "scrolled": true
   },
   "outputs": [],
   "source": [
    "p_minus1_1 = random_pattern1.reshape(1200)\n",
    "for t in range(0,100000):\n",
    "    p = np.array(imstate_update(p_minus1_1[:], imweightso))\n",
    "    p_minus1_1 = p\n",
    "p_final1 = p\n",
    "\n",
    "p_minus1_2 = random_pattern2.reshape(1200)\n",
    "for t in range(0,100000):\n",
    "    p = np.array(imstate_update(p_minus1_2[:], imweightso))\n",
    "    p_minus1_2 = p\n",
    "p_final2 = p\n",
    "    \n",
    "p_minus1_3 = random_pattern3.reshape(1200)\n",
    "for t in range(0,100000):\n",
    "    p = np.array(imstate_update(p_minus1_3[:], imweightso))\n",
    "    p_minus1_3 = p\n",
    "p_final3 = p"
   ]
  },
  {
   "cell_type": "code",
   "execution_count": null,
   "metadata": {
    "id": "v3OU3r0WkjJu",
    "outputId": "b6db2414-9111-4484-a8d5-1ce368c57365"
   },
   "outputs": [
    {
     "name": "stdout",
     "output_type": "stream",
     "text": [
      "Stable states\n"
     ]
    },
    {
     "data": {
      "text/plain": [
       "<matplotlib.image.AxesImage at 0x7faed5454a00>"
      ]
     },
     "execution_count": 110,
     "metadata": {},
     "output_type": "execute_result"
    },
    {
     "data": {
      "image/png": "[encoded data removed]",
      "text/plain": [
       "<Figure size 1440x1080 with 3 Axes>"
      ]
     },
     "execution_count": 110,
     "metadata": {
      "needs_background": "light"
     },
     "output_type": "execute_result"
    }
   ],
   "source": [
    "print(\"Stable states\")\n",
    "\n",
    "fig = plt.figure(figsize=(20, 15))\n",
    "fig.add_subplot(1, 3, 1)\n",
    "plt.imshow(p_final1.reshape(30,40))\n",
    "fig.add_subplot(1, 3, 2)\n",
    "plt.imshow(p_final1.reshape(30,40))\n",
    "fig.add_subplot(1, 3, 3)\n",
    "plt.imshow(p_final1.reshape(30,40))"
   ]
  },
  {
   "cell_type": "markdown",
   "metadata": {
    "id": "Hni2BK9EkjJu"
   },
   "source": [
    "Finally, we compute and plot the energy functions:"
   ]
  },
  {
   "cell_type": "code",
   "execution_count": null,
   "metadata": {
    "id": "-9ZuNnxCkjJv"
   },
   "outputs": [],
   "source": [
    "def imenergy_oft(t, networkstate, weights):\n",
    "    \n",
    "    e = []\n",
    "    p_minus1 = networkstate\n",
    "    e.append(energy(p_minus1, weights))\n",
    "    for time in range(0,t):\n",
    "        p = np.array(imstate_update(p_minus1, weights))\n",
    "        e.append(energy(p, weights))\n",
    "        p_minus1 = p\n",
    "    return np.array(e)"
   ]
  },
  {
   "cell_type": "code",
   "execution_count": null,
   "metadata": {
    "id": "XPL61wv0kjJw",
    "outputId": "ee894e5e-fe88-45e9-c511-373d3038610e"
   },
   "outputs": [
    {
     "data": {
      "image/png": "[encoded data removed]",
      "text/plain": [
       "<Figure size 864x504 with 1 Axes>"
      ]
     },
     "execution_count": 127,
     "metadata": {
      "needs_background": "light"
     },
     "output_type": "execute_result"
    }
   ],
   "source": [
    "plt.plot(imenergy_oft(10000, random_pattern1.reshape(1200), imweights), label = \"Random_pattern 1\", c ='red')\n",
    "plt.plot(imenergy_oft(10000, random_pattern2.reshape(1200), imweights), label = \"Random_pattern 2\", c ='blue')\n",
    "plt.plot(imenergy_oft(10000, random_pattern3.reshape(1200), imweights), label = \"Random_pattern 3\", c ='green')\n",
    "plt.xlabel(\"time\")\n",
    "plt.ylabel(\"Energy\")\n",
    "plt.title(\"Energy evolution over time\")\n",
    "plt.legend()\n",
    "plt.show()"
   ]
  },
  {
   "cell_type": "markdown",
   "metadata": {
    "id": "wouceHAWkjJw"
   },
   "source": [
    "All the states converge to a minimum. In this case, the pattern the random patterns converge to is the same, but the minimum is not equal (perhaps it would reach it if we let it run longer?)"
   ]
  },
  {
   "cell_type": "code",
   "execution_count": null,
   "metadata": {
    "id": "x7YjG5fanYEz"
   },
   "outputs": [],
   "source": [
    "'''\n",
    "############################################################################\n",
    "\n",
    "Nice job!\n",
    "The different random patterns may converge to different energy values. Meaning that the minimun values might not be equal.\n",
    "\n",
    "############################################################################\n",
    "'''"
   ]
  }
 ],
 "metadata": {
  "colab": {
   "collapsed_sections": [],
   "name": "CP_2_Cardenal_PereiradaSilva_corrected.ipynb",
   "provenance": []
  },
  "kernelspec": {
   "display_name": "Python 3",
   "language": "python",
   "name": "python3"
  },
  "language_info": {
   "codemirror_mode": {
    "name": "ipython",
    "version": 3
   },
   "file_extension": ".py",
   "mimetype": "text/x-python",
   "name": "python",
   "nbconvert_exporter": "python",
   "pygments_lexer": "ipython3",
   "version": "3.8.5"
  }
 },
 "nbformat": 4,
 "nbformat_minor": 1
}
