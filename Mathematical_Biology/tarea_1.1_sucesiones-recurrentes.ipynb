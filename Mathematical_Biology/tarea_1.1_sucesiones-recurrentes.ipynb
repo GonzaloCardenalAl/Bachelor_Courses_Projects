{
 "cells": [
  {
   "cell_type": "markdown",
   "metadata": {},
   "source": [
    "# Tarea 1.1: Sucesiones recurrentes"
   ]
  },
  {
   "cell_type": "markdown",
   "metadata": {},
   "source": [
    "## Sucesiones recurrentes en la recta\n",
    "La sucesión de números $x_0, x_1, x_2, \\dots$ se llama recurrente (también recursiva o iterativa) si cada término de la sucesión se calcula a partir de los anteriores:\n",
    "$$\n",
    "x_n = f (x_0, x_1, \\dots , x_{n−1}).\n",
    "$$\n",
    "\n",
    "Aquí nos centraremos en el caso cuando cada término se calcula a partir del inmediato anterior:\n",
    "$$\n",
    "x_n = f (x_{n−1}).\n",
    "$$\n",
    "Para que una sucesión recurrente esté bien definida debemos específicar, además de la función f , el valor del primer elemento $x_0.$\n",
    "\n",
    "Así, una sucesión recurrente se define por\n",
    " \n",
    "\\begin{cases} \n",
    "x_0& = a \\\\\n",
    "x_n& = f(x_{n−1})\n",
    "\\end{cases}\n",
    " \n",
    "Este tipo de sucesiones aparece con frecuencia tanto en problemas teóricos como aplicados y recibe el nombre de _sistema dinámico discreto_."
   ]
  },
  {
   "cell_type": "markdown",
   "metadata": {},
   "source": [
    "## Ejemplos\n",
    "\n",
    "\n",
    "- La sucesión $\\{0, 1, 2, 3, \\dots\\}$ es una sucesión recurrente que puede definirse como\n",
    "\\begin{cases}\n",
    "x_0 =& 0\\\\\n",
    "x_n =& x_{n−1} + 1. \n",
    "\\end{cases}\n",
    "Ésta es una expresión como la anterior con $a = 0$ y $f(x) = x + 1.$\n",
    "\n",
    "- La sucesión definida por\n",
    "\\begin{cases}\n",
    "x_0 =& 1\\\\\n",
    "x_n =& 2x_{n−1}. \n",
    "\\end{cases}\n",
    "Esta es la sucesión de las potencias de 2\n",
    "$$\n",
    "\\{1, 2, 4, 8, 16, 32,\\dots\\}\n",
    "$$ "
   ]
  },
  {
   "cell_type": "markdown",
   "metadata": {},
   "source": [
    "## Código para sucesiones recurrentes\n",
    "\n",
    "Observemos que, de acuerdo a la fórmula recurrente, los términos de la sucesión $x_n$ se calculan aplicando sucesivamente la función $f:$\n",
    "$$\n",
    "\\begin{align*}\n",
    "x_0 &= a\\\\\n",
    "x_1 &= f (a)\\\\\n",
    "x_2 &= f ( f (a))\\\\\n",
    "x_3 &= f ( f ( f (a)))\\\\\n",
    "\\cdots&\\\\\n",
    "x_n &= \\underbrace{f ( f (\\cdots f}_{n \\text{veces}} (x) \\cdots )).\n",
    "\\end{align*}\n",
    "$$"
   ]
  },
  {
   "cell_type": "markdown",
   "metadata": {},
   "source": [
    "_______________________________________________\n",
    "\n",
    "## Sucesiones recurrentes en el plano\n",
    "\n",
    "De forma análoga puede definirse la sucesión recurrente $(x_n, y_n)$ de vectores del plano mediante las fórmulas\n",
    "\n",
    "$$\n",
    "\\left\\{\n",
    "\\begin{align*}\n",
    "x_0 &= a,  y_0 = b\\\\\n",
    "x_n &= f_1(x_{n−1}, y_{n−1})\\\\\n",
    "y_n &= f_2(x_{n−1}, y_{n−1}).\n",
    "\\end{align*}\n",
    "\\right.\n",
    "$$\n",
    "\n",
    "\n",
    "Observemos que aquí debemos suministrar dos valores iniciales $x_0,$ $y_0,$ así como dos funciones de dos variables $f_1(x, y)$ y $f_2(x, y).$"
   ]
  },
  {
   "cell_type": "markdown",
   "metadata": {},
   "source": [
    "## Ejemplos\n",
    "\n",
    "- La sucesión definida por\n",
    "\n",
    "$$\n",
    "\\left\\{\n",
    "\\begin{aligned}\n",
    "x_0 &= 1,  y_0 = -1\\\\\n",
    "x_n &= y_{n−1}\\\\\n",
    "y_n &= x_{n−1}\n",
    "\\end{aligned}\n",
    "\\right.\n",
    "$$\n",
    "\n",
    "toma los valores $(1, −1), (−1, 1), (1, −1),\\dots$\n",
    " \n",
    "\n",
    "- Una sucesión recurrente vectorial que se usa con frecuencia es la definida con ayuda de una matriz \n",
    "$$\n",
    "A = \n",
    "\\begin{pmatrix}\n",
    "a & b \\\\\n",
    "c & d\n",
    "\\end{pmatrix}\n",
    "$$\n",
    "Se tiene \n",
    "$$\n",
    "\\left\\{\n",
    "\\begin{align*}\n",
    "x_0 &= p,  y_0 = q\\\\\n",
    "x_n &= a x_{n-1} + by_{n-1}\\\\\n",
    "y_n &= c x_{n-1} + dy_{n-1}\n",
    "\\end{align*}\n",
    "\\right.\n",
    "$$\n",
    "De forma abreviada se puee escribir\n",
    "$$\n",
    "\\begin{pmatrix}\n",
    "x_n\\\\\n",
    "y_n\n",
    "\\end{pmatrix}\n",
    "=A \n",
    "\\begin{pmatrix}\n",
    "x_{n-1}\\\\\n",
    "y_{n-1}\n",
    "\\end{pmatrix}\n",
    "$$\n",
    "Es fácil comprobar que\n",
    "$$\n",
    "\\begin{pmatrix}\n",
    "x_n\\\\\n",
    "y_n\n",
    "\\end{pmatrix}\n",
    "=A^n \n",
    "\\begin{pmatrix}\n",
    "p\\\\\n",
    "q\n",
    "\\end{pmatrix}\n",
    "$$\n",
    "Si escogemos, por ejemplo \n",
    "$$\n",
    "A= \n",
    "\\begin{pmatrix}\n",
    "1 & 1\\\\\n",
    "1 & 0\n",
    "\\end{pmatrix}\n",
    "$$\n",
    "y $x_0 = 1,$ $y_0 = 1$ \n",
    "resulta la sucesión\n",
    "\n",
    "$$\n",
    "\\begin{pmatrix}\n",
    "x_n\\\\ y_n\n",
    "\\end{pmatrix}=\n",
    "\\begin{pmatrix}\n",
    "1 & 1\\\\\n",
    "1 & 0\n",
    "\\end{pmatrix}^n\n",
    "\\begin{pmatrix}\n",
    "1\\\\\n",
    "1\n",
    "\\end{pmatrix}\n",
    "=\n",
    "\\begin{pmatrix}\n",
    "1&n\\\\\n",
    "1&0\n",
    "\\end{pmatrix}\n",
    "\\begin{pmatrix}\n",
    "1\\\\\n",
    "1\n",
    "\\end{pmatrix}\n",
    "=\n",
    "\\begin{pmatrix}\n",
    "n+1\\\\\n",
    "1\n",
    "\\end{pmatrix}\n",
    "$$\n",
    "\n",
    "es decir $x_n = n+1, y_n = 1.$"
   ]
  },
  {
   "cell_type": "markdown",
   "metadata": {},
   "source": [
    "______________\n",
    "## Ejercicios\n",
    "\n",
    "1.- Define la función `alfa(n)` que devuelve el $n-$ésimo término de la sucesión dada por\n",
    "\n",
    "\\begin{cases}\n",
    "x_0 =& 1\\\\\n",
    "x_n =& \\sqrt{x_{n−1} + 1}. \n",
    "\\end{cases}\n",
    "\n",
    "2.\tDefine la función `gamma(n)` que devuelve en forma de tupla el n-simo término de la sucesión vectorial dada por\n",
    " \n",
    "$$\n",
    "\\left\\{\n",
    "\\begin{align*}\n",
    "x_0 &= 1,  y_0 = 0\\\\\n",
    "x_n &= x_{n−1} + y_{n−1}\\\\\n",
    "y_n &= x_{n−1} - y_{n−1}\n",
    "\\end{align*}\n",
    "\\right.\n",
    "$$"
   ]
  },
  {
   "cell_type": "markdown",
   "metadata": {},
   "source": [
    "_______________________\n",
    "## Respuestas"
   ]
  },
  {
   "cell_type": "markdown",
   "metadata": {},
   "source": [
    "1.- Define la función `alfa(n)` que devuelve el $n-$ésimo término de la sucesión dada por\n",
    "\n",
    "\\begin{cases}\n",
    "x_0 =& 1\\\\\n",
    "x_n =& \\sqrt{x_{n−1} + 1}. \n",
    "\\end{cases}"
   ]
  },
  {
   "cell_type": "code",
   "execution_count": 5,
   "metadata": {},
   "outputs": [
    {
     "ename": "SyntaxError",
     "evalue": "invalid syntax (<ipython-input-5-e10efe876ff7>, line 4)",
     "output_type": "error",
     "traceback": [
      "\u001b[0;36m  File \u001b[0;32m\"<ipython-input-5-e10efe876ff7>\"\u001b[0;36m, line \u001b[0;32m4\u001b[0m\n\u001b[0;31m    for range n+1:\u001b[0m\n\u001b[0m              ^\u001b[0m\n\u001b[0;31mSyntaxError\u001b[0m\u001b[0;31m:\u001b[0m invalid syntax\n"
     ]
    }
   ],
   "source": [
    "def alfa(n):\n",
    "    x = 1\n",
    "    import math as m\n",
    "    for range n+1:\n",
    "        x += m.sqrt(x+1)\n",
    "    return n"
   ]
  },
  {
   "cell_type": "markdown",
   "metadata": {},
   "source": [
    "2.\tDefine la función `gamma(n)` que devuelve en forma de tupla el n-simo término de la sucesión vectorial dada por\n",
    " \n",
    "$$\n",
    "\\left\\{\n",
    "\\begin{align*}\n",
    "x_0 &= 1,  y_0 = 0\\\\\n",
    "x_n &= x_{n−1} + y_{n−1}\\\\\n",
    "y_n &= x_{n−1} - y_{n−1}\n",
    "\\end{align*}\n",
    "\\right.\n",
    "$$"
   ]
  },
  {
   "cell_type": "code",
   "execution_count": null,
   "metadata": {},
   "outputs": [],
   "source": []
  }
 ],
 "metadata": {
  "kernelspec": {
   "display_name": "Python 3",
   "language": "python",
   "name": "python3"
  },
  "language_info": {
   "codemirror_mode": {
    "name": "ipython",
    "version": 3
   },
   "file_extension": ".py",
   "mimetype": "text/x-python",
   "name": "python",
   "nbconvert_exporter": "python",
   "pygments_lexer": "ipython3",
   "version": "3.8.5"
  }
 },
 "nbformat": 4,
 "nbformat_minor": 2
}
